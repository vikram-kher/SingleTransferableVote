{
 "cells": [
  {
   "cell_type": "markdown",
   "metadata": {},
   "source": [
    "## Distortion-Based Analysis of Single Transferable Vote (Code)"
   ]
  },
  {
   "cell_type": "markdown",
   "metadata": {},
   "source": [
    "This file contains code which I (Vikram Kher) have written during my time researching Single Transferable Vote (STV). The program generates a sample election scenario with c candidates and 2^(c-1) voter profiles. It then constructs and solves a linear program (via the library pulp) to find the distortion of STV in the given election scenario."
   ]
  },
  {
   "cell_type": "markdown",
   "metadata": {},
   "source": [
    "### Import Necessary Libraries"
   ]
  },
  {
   "cell_type": "markdown",
   "metadata": {},
   "source": [
    "Note: pulp is a python LP solver"
   ]
  },
  {
   "cell_type": "code",
   "execution_count": 1,
   "metadata": {},
   "outputs": [],
   "source": [
    "from pulp import *\n",
    "import math\n",
    "from string import ascii_uppercase"
   ]
  },
  {
   "cell_type": "code",
   "execution_count": 2,
   "metadata": {},
   "outputs": [],
   "source": [
    "# Set up LP maximization problem\n",
    "model = pulp.LpProblem(\"Distortion_Maximization_problem\", LpMaximize)"
   ]
  },
  {
   "cell_type": "markdown",
   "metadata": {},
   "source": [
    "### Generate Sample Voter Preference Lists"
   ]
  },
  {
   "cell_type": "markdown",
   "metadata": {},
   "source": [
    "Note: There are many possible election scenarios which are consistent with the rules of STV; this just represents one scenario which I investigated."
   ]
  },
  {
   "cell_type": "code",
   "execution_count": 3,
   "metadata": {},
   "outputs": [],
   "source": [
    "#Choose number of candidates in election\n",
    "c = 4"
   ]
  },
  {
   "cell_type": "code",
   "execution_count": 4,
   "metadata": {},
   "outputs": [],
   "source": [
    "alpha = list(\"ABCDEFGHIJKLMNOPQRSTUVWXYZ\")\n",
    "voters = []\n",
    "candidates = []\n",
    "\n",
    "v = 2**(c-1)\n",
    "\n",
    "# Create list of voter profiles\n",
    "for i in range(0, v):\n",
    "    voters.append(i)\n",
    "\n",
    "\n",
    "# Create list of candidates\n",
    "for i in range(0,c): \n",
    "    candidates.append(alpha[i])\n",
    "    \n",
    "preferenceList = dict()\n",
    "val = []\n",
    "for i in range(0,v):\n",
    "    preferenceList[voters[i]] = []\n",
    "    val.append(0)\n",
    "    \n",
    "    \n",
    "val[0] = 1/2\n",
    "val[1] = 1/2\n",
    "def build(preferenceList, i,j):\n",
    "    for k in range(i,v):\n",
    "        if(k >= 2**j):\n",
    "            j = j + 1\n",
    "        preferenceList[voters[k]].append(candidates[j])\n",
    "        for q in range(0,c-j-1):\n",
    "            preferenceList[voters[k]].append(candidates[c-q-1])\n",
    "    \n",
    "    build(preferenceList,i+1,j+1)\n",
    "        \n",
    "def rebuild(preferenceList, n):\n",
    "    k = 4\n",
    "    p = 2\n",
    "    preferenceList[0].append(candidates[0])\n",
    "    preferenceList[0].append(candidates[1])\n",
    "    preferenceList[1].append(candidates[1])\n",
    "    preferenceList[1].append(candidates[0])\n",
    "    divide(preferenceList, val, k, p)\n",
    "                \n",
    "\n",
    "def divide(preferenceList,val, k, p):\n",
    "    if k < 2**c-1:\n",
    "        for i in range(0,int(k/2)):\n",
    "            #Duplicate preferences\n",
    "            preferenceList[i].insert(1,candidates[p])\n",
    "            preferenceList[k/2+i] = preferenceList[i].copy()\n",
    "            \n",
    "            #Swap Candidates\n",
    "            temp = preferenceList[k/2+i][0]\n",
    "            preferenceList[k/2+i][0] = preferenceList[k/2+i][1]\n",
    "            preferenceList[k/2+i][1] = temp\n",
    "            \n",
    "            #Split frequencies\n",
    "            val[int(k/2)+i] = val[i]/(p+1)\n",
    "            val[i]= val[i] - val[int(k/2)+i]\n",
    "        \n",
    "        divide(preferenceList, val, k*2,p+1)\n",
    "\n",
    "rebuild(preferenceList, c)"
   ]
  },
  {
   "cell_type": "code",
   "execution_count": 5,
   "metadata": {},
   "outputs": [
    {
     "name": "stdout",
     "output_type": "stream",
     "text": [
      "{0: ['A', 'D', 'C', 'B'], 1: ['B', 'D', 'C', 'A'], 2: ['C', 'D', 'A', 'B'], 3: ['C', 'D', 'B', 'A'], 4: ['D', 'A', 'C', 'B'], 5: ['D', 'B', 'C', 'A'], 6: ['D', 'C', 'A', 'B'], 7: ['D', 'C', 'B', 'A']}\n"
     ]
    }
   ],
   "source": [
    "#Prints voter profiles\n",
    "print(preferenceList)"
   ]
  },
  {
   "cell_type": "code",
   "execution_count": 6,
   "metadata": {},
   "outputs": [
    {
     "name": "stdout",
     "output_type": "stream",
     "text": [
      "[0.25, 0.25, 0.125, 0.125, 0.08333333333333334, 0.08333333333333334, 0.041666666666666664, 0.041666666666666664]\n"
     ]
    }
   ],
   "source": [
    "#Prints frequency of voter profiles amoung voter population\n",
    "print(val)"
   ]
  },
  {
   "cell_type": "code",
   "execution_count": 7,
   "metadata": {},
   "outputs": [
    {
     "data": {
      "text/plain": [
       "['A', 'B', 'C', 'D']"
      ]
     },
     "execution_count": 7,
     "metadata": {},
     "output_type": "execute_result"
    }
   ],
   "source": [
    "# Prints labels of candidates in election\n",
    "candidates"
   ]
  },
  {
   "cell_type": "code",
   "execution_count": 8,
   "metadata": {
    "scrolled": true
   },
   "outputs": [
    {
     "data": {
      "text/plain": [
       "[0, 1, 2, 3, 4, 5, 6, 7]"
      ]
     },
     "execution_count": 8,
     "metadata": {},
     "output_type": "execute_result"
    }
   ],
   "source": [
    "# Prints labels of voters in election\n",
    "voters"
   ]
  },
  {
   "cell_type": "markdown",
   "metadata": {},
   "source": [
    "### Add Variables to LP"
   ]
  },
  {
   "cell_type": "code",
   "execution_count": 9,
   "metadata": {},
   "outputs": [],
   "source": [
    "voter_candidate_pairs = pulp.LpVariable.dicts(\"pair\",\n",
    "                                     ((i,j) for i in voters for j in candidates),\n",
    "                                     lowBound=0,\n",
    "                                     cat='Continuous')"
   ]
  },
  {
   "cell_type": "code",
   "execution_count": 10,
   "metadata": {},
   "outputs": [
    {
     "data": {
      "text/plain": [
       "{(0, 'A'): pair_(0,_'A'),\n",
       " (0, 'B'): pair_(0,_'B'),\n",
       " (0, 'C'): pair_(0,_'C'),\n",
       " (0, 'D'): pair_(0,_'D'),\n",
       " (1, 'A'): pair_(1,_'A'),\n",
       " (1, 'B'): pair_(1,_'B'),\n",
       " (1, 'C'): pair_(1,_'C'),\n",
       " (1, 'D'): pair_(1,_'D'),\n",
       " (2, 'A'): pair_(2,_'A'),\n",
       " (2, 'B'): pair_(2,_'B'),\n",
       " (2, 'C'): pair_(2,_'C'),\n",
       " (2, 'D'): pair_(2,_'D'),\n",
       " (3, 'A'): pair_(3,_'A'),\n",
       " (3, 'B'): pair_(3,_'B'),\n",
       " (3, 'C'): pair_(3,_'C'),\n",
       " (3, 'D'): pair_(3,_'D'),\n",
       " (4, 'A'): pair_(4,_'A'),\n",
       " (4, 'B'): pair_(4,_'B'),\n",
       " (4, 'C'): pair_(4,_'C'),\n",
       " (4, 'D'): pair_(4,_'D'),\n",
       " (5, 'A'): pair_(5,_'A'),\n",
       " (5, 'B'): pair_(5,_'B'),\n",
       " (5, 'C'): pair_(5,_'C'),\n",
       " (5, 'D'): pair_(5,_'D'),\n",
       " (6, 'A'): pair_(6,_'A'),\n",
       " (6, 'B'): pair_(6,_'B'),\n",
       " (6, 'C'): pair_(6,_'C'),\n",
       " (6, 'D'): pair_(6,_'D'),\n",
       " (7, 'A'): pair_(7,_'A'),\n",
       " (7, 'B'): pair_(7,_'B'),\n",
       " (7, 'C'): pair_(7,_'C'),\n",
       " (7, 'D'): pair_(7,_'D')}"
      ]
     },
     "execution_count": 10,
     "metadata": {},
     "output_type": "execute_result"
    }
   ],
   "source": [
    "voter_candidate_pairs"
   ]
  },
  {
   "cell_type": "markdown",
   "metadata": {},
   "source": [
    "### Add objective function"
   ]
  },
  {
   "cell_type": "code",
   "execution_count": 11,
   "metadata": {},
   "outputs": [
    {
     "data": {
      "text/plain": [
       "Distortion_Maximization_problem:\n",
       "MAXIMIZE\n",
       "0.25*pair_(0,_'A') + 0.25*pair_(1,_'A') + 0.125*pair_(2,_'A') + 0.125*pair_(3,_'A') + 0.08333333333333334*pair_(4,_'A') + 0.08333333333333334*pair_(5,_'A') + 0.041666666666666664*pair_(6,_'A') + 0.041666666666666664*pair_(7,_'A') + 0.0\n",
       "VARIABLES\n",
       "pair_(0,_'A') Continuous\n",
       "pair_(1,_'A') Continuous\n",
       "pair_(2,_'A') Continuous\n",
       "pair_(3,_'A') Continuous\n",
       "pair_(4,_'A') Continuous\n",
       "pair_(5,_'A') Continuous\n",
       "pair_(6,_'A') Continuous\n",
       "pair_(7,_'A') Continuous"
      ]
     },
     "execution_count": 11,
     "metadata": {},
     "output_type": "execute_result"
    }
   ],
   "source": [
    "model += (\n",
    "    pulp.lpSum([voter_candidate_pairs[(j, candidates[0])]*val[i] for i,j in enumerate(voters)])\n",
    ")\n",
    "model"
   ]
  },
  {
   "cell_type": "markdown",
   "metadata": {},
   "source": [
    "### Add Constraints"
   ]
  },
  {
   "cell_type": "markdown",
   "metadata": {},
   "source": [
    "#### Triangle Inequality"
   ]
  },
  {
   "cell_type": "code",
   "execution_count": 12,
   "metadata": {},
   "outputs": [],
   "source": [
    "for i in voters:\n",
    "    for j in candidates:\n",
    "        for k in voters:\n",
    "            for l in candidates:\n",
    "                model += voter_candidate_pairs[(i,j)] <= voter_candidate_pairs[(k,j)] + voter_candidate_pairs[(k,l)] + voter_candidate_pairs[(i,l)]"
   ]
  },
  {
   "cell_type": "markdown",
   "metadata": {},
   "source": [
    "#### Consistency"
   ]
  },
  {
   "cell_type": "code",
   "execution_count": 13,
   "metadata": {},
   "outputs": [],
   "source": [
    "for i in voters:\n",
    "    for j in candidates:\n",
    "        for k in candidates:\n",
    "            if(preferenceList[i].index(j) < preferenceList[i].index(k)):\n",
    "                model += voter_candidate_pairs[(i,j)] <= voter_candidate_pairs[(i,k)]"
   ]
  },
  {
   "cell_type": "markdown",
   "metadata": {},
   "source": [
    "#### Normalization"
   ]
  },
  {
   "cell_type": "code",
   "execution_count": 14,
   "metadata": {},
   "outputs": [],
   "source": [
    "model += pulp.lpSum([voter_candidate_pairs[i, candidates[-1]]*val[voters.index(i)] for i in voters]) == 1"
   ]
  },
  {
   "cell_type": "markdown",
   "metadata": {},
   "source": [
    "#### Optimality"
   ]
  },
  {
   "cell_type": "code",
   "execution_count": 15,
   "metadata": {
    "scrolled": true
   },
   "outputs": [],
   "source": [
    "for i in candidates:\n",
    "    model += pulp.lpSum([voter_candidate_pairs[j, i]*val[voters.index(j)] for j in voters]) >= 1"
   ]
  },
  {
   "cell_type": "markdown",
   "metadata": {},
   "source": [
    "#### Positive Distances"
   ]
  },
  {
   "cell_type": "markdown",
   "metadata": {},
   "source": [
    "Already Done"
   ]
  },
  {
   "cell_type": "markdown",
   "metadata": {},
   "source": [
    "### Solve Model"
   ]
  },
  {
   "cell_type": "code",
   "execution_count": 16,
   "metadata": {},
   "outputs": [
    {
     "data": {
      "text/plain": [
       "1"
      ]
     },
     "execution_count": 16,
     "metadata": {},
     "output_type": "execute_result"
    }
   ],
   "source": [
    "model.solve()"
   ]
  },
  {
   "cell_type": "code",
   "execution_count": 17,
   "metadata": {},
   "outputs": [
    {
     "name": "stdout",
     "output_type": "stream",
     "text": [
      "3.222222225\n"
     ]
    }
   ],
   "source": [
    "# Print Distortion\n",
    "print(pulp.value(model.objective))"
   ]
  },
  {
   "cell_type": "code",
   "execution_count": 18,
   "metadata": {},
   "outputs": [
    {
     "name": "stdout",
     "output_type": "stream",
     "text": [
      "Status: Optimal\n"
     ]
    }
   ],
   "source": [
    "print(\"Status:\", LpStatus[model.status])"
   ]
  },
  {
   "cell_type": "code",
   "execution_count": 19,
   "metadata": {
    "scrolled": false
   },
   "outputs": [
    {
     "name": "stdout",
     "output_type": "stream",
     "text": [
      "pair_(0,_'A') = 1.7777778\n",
      "pair_(1,_'A') = 4.4444444\n",
      "pair_(2,_'A') = 2.6666667\n",
      "pair_(3,_'A') = 4.4444444\n",
      "pair_(4,_'A') = 2.6666667\n",
      "pair_(5,_'A') = 3.5555556\n",
      "pair_(6,_'A') = 2.6666667\n",
      "pair_(7,_'A') = 3.5555556\n"
     ]
    }
   ],
   "source": [
    "for v in model.variables():\n",
    "    if(v.name[10] == 'A' or v.name[11] == 'A'):\n",
    "        print(v.name, \"=\", v.varValue)"
   ]
  },
  {
   "cell_type": "markdown",
   "metadata": {},
   "source": [
    "### Extract dual variable values"
   ]
  },
  {
   "cell_type": "code",
   "execution_count": 20,
   "metadata": {
    "scrolled": false
   },
   "outputs": [
    {
     "name": "stdout",
     "output_type": "stream",
     "text": [
      "_C132 : -pair_(0,_'A') - pair_(0,_'D') + pair_(1,_'A') - pair_(1,_'D') <= 0 \t Dual 0.11574074\n",
      "_C148 : pair_(1,_'A') - pair_(1,_'D') - pair_(4,_'A') - pair_(4,_'D') <= 0 \t Dual 0.087962963\n",
      "_C156 : pair_(1,_'A') - pair_(1,_'D') - pair_(6,_'A') - pair_(6,_'D') <= 0 \t Dual 0.046296296\n",
      "_C296 : -pair_(1,_'B') - pair_(1,_'D') + pair_(2,_'B') - pair_(2,_'D') <= 0 \t Dual 0.2037037\n",
      "_C312 : pair_(2,_'B') - pair_(2,_'D') - pair_(5,_'B') - pair_(5,_'D') <= 0 \t Dual 0.0046296296\n",
      "_C388 : -pair_(0,_'A') - pair_(0,_'D') + pair_(3,_'A') - pair_(3,_'D') <= 0 \t Dual 0.078703704\n",
      "_C416 : pair_(3,_'A') - pair_(3,_'D') - pair_(7,_'A') - pair_(7,_'D') <= 0 \t Dual 0.046296296\n",
      "_C552 : -pair_(1,_'B') - pair_(1,_'D') + pair_(4,_'B') - pair_(4,_'D') <= 0 \t Dual 0.074074074\n",
      "_C588 : -pair_(2,_'C') - pair_(2,_'D') + pair_(4,_'C') - pair_(4,_'D') <= 0 \t Dual 0.055555556\n",
      "_C592 : -pair_(3,_'C') - pair_(3,_'D') + pair_(4,_'C') - pair_(4,_'D') <= 0 \t Dual 0.046296296\n",
      "_C644 : -pair_(0,_'A') - pair_(0,_'D') + pair_(5,_'A') - pair_(5,_'D') <= 0 \t Dual 0.083333333\n",
      "_C720 : -pair_(3,_'C') - pair_(3,_'D') + pair_(5,_'C') - pair_(5,_'D') <= 0 \t Dual 0.092592593\n",
      "_C824 : -pair_(5,_'B') - pair_(5,_'D') + pair_(6,_'B') - pair_(6,_'D') <= 0 \t Dual 0.087962963\n",
      "_C908 : -pair_(2,_'A') - pair_(2,_'D') + pair_(7,_'A') - pair_(7,_'D') <= 0 \t Dual 0.083333333\n",
      "_C916 : -pair_(4,_'A') - pair_(4,_'D') + pair_(7,_'A') - pair_(7,_'D') <= 0 \t Dual 0.0046296296\n",
      "_C1027 : pair_(0,_'A') - pair_(0,_'D') <= 0 \t Dual 0.52777778\n",
      "_C1033 : pair_(1,_'B') - pair_(1,_'D') <= 0 \t Dual 0.27777778\n",
      "_C1037 : pair_(2,_'A') - pair_(2,_'B') <= 0 \t Dual 0.20833333\n",
      "_C1040 : pair_(2,_'C') - pair_(2,_'D') <= 0 \t Dual 0.055555556\n",
      "_C1046 : pair_(3,_'C') - pair_(3,_'D') <= 0 \t Dual 0.13888889\n",
      "_C1049 : pair_(4,_'A') - pair_(4,_'B') <= 0 \t Dual 0.074074074\n",
      "_C1050 : pair_(4,_'A') - pair_(4,_'C') <= 0 \t Dual 0.10185185\n",
      "_C1056 : pair_(5,_'B') - pair_(5,_'C') <= 0 \t Dual 0.092592593\n",
      "_C1061 : pair_(6,_'A') - pair_(6,_'B') <= 0 \t Dual 0.087962963\n",
      "_C1073 : 0.25*pair_(0,_'D') + 0.25*pair_(1,_'D') + 0.125*pair_(2,_'D') + 0.125*pair_(3,_'D') + 0.08333333333333334*pair_(4,_'D') + 0.08333333333333334*pair_(5,_'D') + 0.041666666666666664*pair_(6,_'D') + 0.041666666666666664*pair_(7,_'D') = 1.0 \t Dual 3.2222222\n"
     ]
    }
   ],
   "source": [
    "for name, c in list(model.constraints.items()):\n",
    "    # Print non-negative dual variables\n",
    "    if(c.pi != 0):\n",
    "        print(name, \":\", c, \"\\t Dual\", c.pi)"
   ]
  }
 ],
 "metadata": {
  "kernelspec": {
   "display_name": "Python 3",
   "language": "python",
   "name": "python3"
  },
  "language_info": {
   "codemirror_mode": {
    "name": "ipython",
    "version": 3
   },
   "file_extension": ".py",
   "mimetype": "text/x-python",
   "name": "python",
   "nbconvert_exporter": "python",
   "pygments_lexer": "ipython3",
   "version": "3.7.7"
  }
 },
 "nbformat": 4,
 "nbformat_minor": 4
}
